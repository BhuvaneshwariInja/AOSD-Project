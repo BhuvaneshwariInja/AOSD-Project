{
 "cells": [
  {
   "cell_type": "markdown",
   "id": "eb2446c5",
   "metadata": {},
   "source": [
    "# Generating random numbers as input"
   ]
  },
  {
   "cell_type": "code",
   "execution_count": 1,
   "id": "0fd3b7ec",
   "metadata": {},
   "outputs": [],
   "source": [
    "import random\n",
    "\n",
    "mylist = [] # Taking an array of random numbers\n",
    "\n",
    "for i in range(0,1500):\n",
    "    x = random.randint(1,100)\n",
    "    mylist.append(x)\n",
    "#print(mylist)\n",
    "#print(len(mylist))"
   ]
  },
  {
   "cell_type": "markdown",
   "id": "921facd3",
   "metadata": {},
   "source": [
    "# Importing the required python packages "
   ]
  },
  {
   "cell_type": "code",
   "execution_count": 2,
   "id": "018000af",
   "metadata": {},
   "outputs": [],
   "source": [
    "import pandas as pd  #for the creation of datasets\n",
    "import time\n",
    "import psutil   # It is a library for profiling system-level information \n",
    "import cProfile# It is a library for profiling user-level information\n",
    "import time"
   ]
  },
  {
   "cell_type": "markdown",
   "id": "29f41ebb",
   "metadata": {},
   "source": [
    "# Python Code for Shell Sort, profiling user and system-level information"
   ]
  },
  {
   "cell_type": "code",
   "execution_count": 3,
   "id": "167c4752",
   "metadata": {
    "scrolled": false
   },
   "outputs": [
    {
     "name": "stdout",
     "output_type": "stream",
     "text": [
      "full mem information: pfullmem(rss=98607104, vms=104738816, num_page_faults=24897, peak_wset=98607104, wset=98607104, peak_paged_pool=713016, paged_pool=713000, peak_nonpaged_pool=148312, nonpaged_pool=128432, pagefile=104738816, peak_pagefile=104738816, private=104738816, uss=75673600)\n",
      "memory rss: 0.09183502197265625 GB\n",
      "memory vms: 0.09754562377929688 GB\n",
      "pfaults: 24897\n",
      "pageins: 98607104\n",
      "memory uss: 0.09183502197265625 GB\n",
      "cpu percent: 99.2\n",
      "cpu time: pcputimes(user=2.890625, system=0.875, children_user=0.0, children_system=0.0)\n",
      "         14432 function calls (14431 primitive calls) in 1.907 seconds\n",
      "\n",
      "   Ordered by: internal time\n",
      "\n",
      "   ncalls  tottime  percall  cumtime  percall filename:lineno(function)\n",
      "        1    1.900    1.900    1.902    1.902 1971363569.py:1(shellSort)\n",
      "        1    0.004    0.004    0.004    0.004 {built-in method psutil_windows.proc_memory_uss}\n",
      "    13556    0.001    0.000    0.001    0.000 {built-in method builtins.len}\n",
      "       39    0.000    0.000    0.000    0.000 socket.py:474(send)\n",
      "       14    0.000    0.000    0.000    0.000 {built-in method builtins.compile}\n",
      "       38    0.000    0.000    0.001    0.000 iostream.py:500(write)\n",
      "       39    0.000    0.000    0.001    0.000 iostream.py:206(schedule)\n",
      "        4    0.000    0.000    0.000    0.000 {built-in method psutil_windows.proc_times}\n",
      "       14    0.000    0.000    1.907    0.136 interactiveshell.py:3403(run_code)\n",
      "       39    0.000    0.000    0.000    0.000 threading.py:1113(is_alive)\n",
      "        8    0.000    0.000    0.001    0.000 {built-in method builtins.print}\n",
      "       14    0.000    0.000    0.000    0.000 codeop.py:142(__call__)\n",
      "       14    0.000    0.000    0.000    0.000 contextlib.py:86(__init__)\n",
      "       39    0.000    0.000    0.000    0.000 threading.py:1059(_wait_for_tstate_lock)\n",
      "       38    0.000    0.000    0.000    0.000 iostream.py:418(_is_master_process)\n",
      "       28    0.000    0.000    0.000    0.000 compilerop.py:166(extra_flags)\n",
      "       14    0.000    0.000    0.000    0.000 contextlib.py:123(__exit__)\n",
      "        1    0.000    0.000    0.000    0.000 _common.py:399(wrapper)\n",
      "       14    0.000    0.000    1.907    0.136 {built-in method builtins.exec}\n",
      "       39    0.000    0.000    0.000    0.000 {method 'acquire' of '_thread.lock' objects}\n",
      "       14    0.000    0.000    0.000    0.000 hooks.py:103(__call__)\n",
      "       39    0.000    0.000    0.000    0.000 iostream.py:96(_event_pipe)\n",
      "       14    0.000    0.000    0.000    0.000 contextlib.py:261(helper)\n",
      "        1    0.000    0.000    0.004    0.004 _pswindows.py:839(memory_full_info)\n",
      "        2    0.000    0.000    0.000    0.000 __init__.py:456(__repr__)\n",
      "       28    0.000    0.000    0.000    0.000 {built-in method builtins.next}\n",
      "       14    0.000    0.000    0.000    0.000 contextlib.py:114(__enter__)\n",
      "        1    0.000    0.000    0.000    0.000 __init__.py:328(_init)\n",
      "        2    0.000    0.000    0.000    0.000 __init__.py:942(cpu_percent)\n",
      "        1    0.000    0.000    0.000    0.000 {built-in method psutil_windows.proc_memory_info}\n",
      "       14    0.000    0.000    0.000    0.000 traitlets.py:566(__get__)\n",
      "        2    0.000    0.000    0.000    0.000 {built-in method psutil_windows.cpu_count_logical}\n",
      "       14    0.000    0.000    0.000    0.000 interactiveshell.py:3341(compare)\n",
      "        3    0.000    0.000    0.000    0.000 _pswindows.py:953(cpu_times)\n",
      "       28    0.000    0.000    0.000    0.000 {built-in method builtins.getattr}\n",
      "       14    0.000    0.000    0.000    0.000 traitlets.py:535(get)\n",
      "       38    0.000    0.000    0.000    0.000 iostream.py:437(_schedule_flush)\n",
      "       39    0.000    0.000    0.000    0.000 {built-in method nt.getpid}\n",
      "      6/5    0.000    0.000    0.004    0.001 _pswindows.py:676(wrapper)\n",
      "       14    0.000    0.000    0.000    0.000 ipstruct.py:125(__getattr__)\n",
      "       39    0.000    0.000    0.000    0.000 threading.py:529(is_set)\n",
      "       14    0.000    0.000    0.000    0.000 interactiveshell.py:1278(user_global_ns)\n",
      "       39    0.000    0.000    0.000    0.000 {method 'append' of 'collections.deque' objects}\n",
      "        1    0.000    0.000    0.000    0.000 threading.py:82(RLock)\n",
      "        1    0.000    0.000    0.000    0.000 {built-in method builtins.round}\n",
      "        1    0.000    0.000    0.000    0.000 _pswindows.py:829(memory_info)\n",
      "       38    0.000    0.000    0.000    0.000 {built-in method builtins.isinstance}\n",
      "        1    0.000    0.000    0.000    0.000 1971363569.py:35(<module>)\n",
      "        2    0.000    0.000    0.000    0.000 __init__.py:1561(cpu_count)\n",
      "        1    0.000    0.000    1.902    1.902 1971363569.py:34(<module>)\n",
      "        1    0.000    0.000    0.000    0.000 1971363569.py:41(<module>)\n",
      "        1    0.000    0.000    0.000    0.000 1971363569.py:43(<module>)\n",
      "        5    0.000    0.000    0.000    0.000 {built-in method __new__ of type object at 0x00007FFB03933C60}\n",
      "        1    0.000    0.000    0.000    0.000 _common.py:443(wrapper)\n",
      "        2    0.000    0.000    0.000    0.000 _pswindows.py:302(cpu_count_logical)\n",
      "        1    0.000    0.000    0.000    0.000 1971363569.py:42(<module>)\n",
      "        1    0.000    0.000    0.000    0.000 {built-in method builtins.sorted}\n",
      "        1    0.000    0.000    0.000    0.000 1971363569.py:31(<module>)\n",
      "        2    0.000    0.000    0.000    0.000 __init__.py:982(timer)\n",
      "        1    0.000    0.000    0.000    0.000 _pswindows.py:928(create_time)\n",
      "       14    0.000    0.000    0.000    0.000 hooks.py:168(pre_run_code_hook)\n",
      "        1    0.000    0.000    0.000    0.000 1971363569.py:36(<module>)\n",
      "        1    0.000    0.000    0.000    0.000 _pswindows.py:218(getpagesize)\n",
      "        1    0.000    0.000    0.004    0.004 1971363569.py:33(<module>)\n",
      "        1    0.000    0.000    0.000    0.000 1971363569.py:30(<module>)\n",
      "        1    0.000    0.000    0.000    0.000 1971363569.py:32(<module>)\n",
      "        1    0.000    0.000    0.000    0.000 __init__.py:704(create_time)\n",
      "        1    0.000    0.000    0.000    0.000 1971363569.py:37(<module>)\n",
      "        1    0.000    0.000    0.000    0.000 _pswindows.py:807(_get_raw_meminfo)\n",
      "        1    0.000    0.000    0.004    0.004 __init__.py:1060(memory_full_info)\n",
      "        1    0.000    0.000    0.000    0.000 __init__.py:1034(cpu_times)\n",
      "        1    0.000    0.000    0.000    0.000 __init__.py:325(__init__)\n",
      "        1    0.000    0.000    0.000    0.000 1971363569.py:39(<module>)\n",
      "        1    0.000    0.000    0.000    0.000 1971363569.py:40(<module>)\n",
      "        1    0.000    0.000    0.000    0.000 1971363569.py:38(<module>)\n",
      "        1    0.000    0.000    0.000    0.000 <string>:1(<lambda>)\n",
      "        1    0.000    0.000    0.000    0.000 _pswindows.py:716(__init__)\n",
      "        2    0.000    0.000    0.000    0.000 {built-in method time.monotonic}\n",
      "        1    0.000    0.000    0.000    0.000 {method 'items' of 'dict' objects}\n",
      "        1    0.000    0.000    0.000    0.000 {built-in method psutil_windows.getpagesize}\n",
      "        1    0.000    0.000    0.000    0.000 __init__.py:420(pid)\n",
      "        1    0.000    0.000    0.000    0.000 {built-in method time.time}\n",
      "        1    0.000    0.000    0.000    0.000 {method 'disable' of '_lsprof.Profiler' objects}\n",
      "\n",
      "\n",
      "     Program  Process id     RSS in GB     VMS in GB  Page Faults  Page ins  \\\n",
      "0  shellSort       10504  1.479107e+09  1.571082e+09        24897  98607104   \n",
      "\n",
      "   Memory USS (GB)  CPU Percent                     CPU Time  Running time  \n",
      "0         0.091835        100.8  (2.921875, 0.875, 0.0, 0.0)         1.898  \n"
     ]
    }
   ],
   "source": [
    "def shellSort(arr):\n",
    "    gap = len(arr) // 2 # initialize the gap\n",
    " \n",
    "    while gap > 0:\n",
    "        i = 0\n",
    "        j = gap\n",
    "         \n",
    "        # check the array in from left to right\n",
    "        # till the last possible index of j\n",
    "        while j < len(arr):\n",
    "     \n",
    "            if arr[i] >arr[j]:\n",
    "                arr[i],arr[j] = arr[j],arr[i]\n",
    "             \n",
    "            i += 1\n",
    "            j += 1\n",
    "         \n",
    "            # now, we look back from ith index to the left\n",
    "            # we swap the values which are not in the right order.\n",
    "            k = i\n",
    "            while k - gap > -1:\n",
    " \n",
    "                if arr[k - gap] > arr[k]:\n",
    "                    arr[k-gap],arr[k] = arr[k],arr[k-gap]\n",
    "                k -= 1\n",
    " \n",
    "        gap //= 2\n",
    "pr=cProfile.Profile()  # Profiler for user information\n",
    "pr.enable()\n",
    "start=time.time()\n",
    "p1 = psutil.Process()  # psutil for system information\n",
    "p1.cpu_percent()\n",
    "mem = p1.memory_full_info()\n",
    "shellSort(mylist)\n",
    "print(\"full mem information:\", mem)\n",
    "print('memory rss:', mem[0]/2.**30 , \"GB\")\n",
    "print('memory vms:', mem[1]/2.**30 , \"GB\")\n",
    "print('pfaults:', mem[2])\n",
    "print('pageins:', mem[3])\n",
    "print('memory uss:', mem[4]/2.**30 , \"GB\")\n",
    "print(\"cpu percent:\", p1.cpu_percent())\n",
    "print(\"cpu time:\", p1.cpu_times())\n",
    "pr.disable()\n",
    "end=time.time()\n",
    "pr.print_stats(sort='time')\n",
    "\n",
    "# creating a dataframe for storing the system-level information of shell sort\n",
    "df1= pd.DataFrame({'Program': ['shellSort'],\n",
    "        'Process id':[p1.pid],'RSS in GB':[mem[0]/2.*30], 'VMS in GB':[mem[1]/2.*30],'Page Faults':[mem[2]],'Page ins': [mem[3]],\n",
    "                     'Memory USS (GB)':[mem[4]/2.**30 ], 'CPU Percent':[p1.cpu_percent()],'CPU Time': [p1.cpu_times()], 'Running time': [(round((end-start),3))],\n",
    "                      })\n",
    "print(df1)\n",
    "    "
   ]
  },
  {
   "cell_type": "markdown",
   "id": "aaac13a7",
   "metadata": {},
   "source": [
    "# Python code for Recursive Bubble Sort, profiling user and system-level information"
   ]
  },
  {
   "cell_type": "code",
   "execution_count": 4,
   "id": "9b9e7a39",
   "metadata": {},
   "outputs": [
    {
     "name": "stdout",
     "output_type": "stream",
     "text": [
      "full mem information: pfullmem(rss=99659776, vms=105742336, num_page_faults=25156, peak_wset=99659776, wset=99659776, peak_paged_pool=716144, paged_pool=715864, peak_nonpaged_pool=148312, nonpaged_pool=131152, pagefile=105742336, peak_pagefile=105742336, private=105742336, uss=76070912)\n",
      "memory rss: 0.09281539916992188 GB\n",
      "memory vms: 0.098480224609375 GB\n",
      "pfaults: 25156\n",
      "pageins: 99659776\n",
      "memory uss: 0.09281539916992188 GB\n",
      "      Program  Process id     RSS in GB     VMS in GB  Page Faults  Page ins  \\\n",
      "0  bubbleSort       10504  1.494897e+09  1.586135e+09        25156  99659776   \n",
      "\n",
      "   Memory USS (GB)  CPU Percent                        CPU Time  Running time  \n",
      "0         0.092815         87.5  (3.015625, 0.921875, 0.0, 0.0)          0.11  \n",
      "time consumed:0.1097557544708252secs\n"
     ]
    }
   ],
   "source": [
    "# Utility function to swap values at two indices in the list\n",
    "def swap(A, i, j):\n",
    " \n",
    "    temp = A[i]\n",
    "    A[i] = A[j]\n",
    "    A[j] = temp\n",
    " \n",
    " \n",
    "# Recursive function to perform bubble sort on sublist `A[i…n]`\n",
    "def bubbleSort(A, n):\n",
    " \n",
    "    for i in range(n - 1):\n",
    "        if A[i] > A[i + 1]:\n",
    "            swap(A, i, i + 1)\n",
    " \n",
    "    if n - 1 > 1:\n",
    "        bubbleSort(A, n - 1)\n",
    "        \n",
    "A = mylist\n",
    "p2 = psutil.Process()\n",
    "p2.cpu_percent()\n",
    "mem = p2.memory_full_info()\n",
    "start=time.time()\n",
    "bubbleSort(A, len(A))\n",
    "\n",
    "print(\"full mem information:\", mem)\n",
    "print('memory rss:', mem[0]/2.**30 , \"GB\")\n",
    "print('memory vms:', mem[1]/2.**30 , \"GB\")\n",
    "print('pfaults:', mem[2])\n",
    "print('pageins:', mem[3])\n",
    "print('memory uss:', mem[4]/2.**30 , \"GB\")\n",
    "#print(\"cpu percent:\", p2.cpu_percent())\n",
    "#sort = bubbleSort(array)\n",
    "#pr.disable()\n",
    "# print the sorted list\n",
    "   \n",
    "# print(A)\n",
    "end=time.time()\n",
    "df2= pd.DataFrame({'Program': ['bubbleSort'],\n",
    "        'Process id':[p2.pid],'RSS in GB':[mem[0]/2.*30], 'VMS in GB':[mem[1]/2.*30],'Page Faults':[mem[2]],'Page ins': [mem[3]],\n",
    "                     'Memory USS (GB)':[mem[4]/2.**30 ], 'CPU Percent':[p2.cpu_percent()],'CPU Time': [p2.cpu_times()], 'Running time': [(round((end-start),3))],\n",
    "                      })\n",
    "print(df2)\n",
    "print(\"time consumed:{}secs\".format(end-start))"
   ]
  },
  {
   "cell_type": "markdown",
   "id": "f0884567",
   "metadata": {},
   "source": [
    "# Python code for running the two programs simultaneously, Profiling user and system-level data"
   ]
  },
  {
   "cell_type": "code",
   "execution_count": 5,
   "id": "934ddc65",
   "metadata": {},
   "outputs": [
    {
     "name": "stdout",
     "output_type": "stream",
     "text": [
      "         14374 function calls (14354 primitive calls) in 1.950 seconds\n",
      "\n",
      "   Ordered by: standard name\n",
      "\n",
      "   ncalls  tottime  percall  cumtime  percall filename:lineno(function)\n",
      "        1    1.737    1.737    1.739    1.739 1971363569.py:1(shellSort)\n",
      "      3/1    0.000    0.000    0.003    0.003 <frozen importlib._bootstrap>:1002(_find_and_load)\n",
      "      6/2    0.000    0.000    0.001    0.001 <frozen importlib._bootstrap>:1033(_handle_fromlist)\n",
      "        3    0.000    0.000    0.000    0.000 <frozen importlib._bootstrap>:112(release)\n",
      "        3    0.000    0.000    0.000    0.000 <frozen importlib._bootstrap>:152(__init__)\n",
      "        3    0.000    0.000    0.000    0.000 <frozen importlib._bootstrap>:156(__enter__)\n",
      "        3    0.000    0.000    0.000    0.000 <frozen importlib._bootstrap>:160(__exit__)\n",
      "        3    0.000    0.000    0.000    0.000 <frozen importlib._bootstrap>:166(_get_module_lock)\n",
      "        3    0.000    0.000    0.000    0.000 <frozen importlib._bootstrap>:185(cb)\n",
      "      5/1    0.000    0.000    0.002    0.002 <frozen importlib._bootstrap>:220(_call_with_frames_removed)\n",
      "       18    0.000    0.000    0.000    0.000 <frozen importlib._bootstrap>:231(_verbose_message)\n",
      "        3    0.000    0.000    0.000    0.000 <frozen importlib._bootstrap>:35(_new_module)\n",
      "        3    0.000    0.000    0.000    0.000 <frozen importlib._bootstrap>:351(__init__)\n",
      "        6    0.000    0.000    0.000    0.000 <frozen importlib._bootstrap>:385(cached)\n",
      "       14    0.000    0.000    0.000    0.000 <frozen importlib._bootstrap>:398(parent)\n",
      "        3    0.000    0.000    0.000    0.000 <frozen importlib._bootstrap>:406(has_location)\n",
      "        3    0.000    0.000    0.000    0.000 <frozen importlib._bootstrap>:486(_init_module_attrs)\n",
      "        3    0.000    0.000    0.000    0.000 <frozen importlib._bootstrap>:558(module_from_spec)\n",
      "        3    0.000    0.000    0.000    0.000 <frozen importlib._bootstrap>:58(__init__)\n",
      "      3/1    0.000    0.000    0.002    0.002 <frozen importlib._bootstrap>:659(_load_unlocked)\n",
      "        3    0.000    0.000    0.000    0.000 <frozen importlib._bootstrap>:736(find_spec)\n",
      "        3    0.000    0.000    0.000    0.000 <frozen importlib._bootstrap>:811(find_spec)\n",
      "        3    0.000    0.000    0.000    0.000 <frozen importlib._bootstrap>:87(acquire)\n",
      "        9    0.000    0.000    0.000    0.000 <frozen importlib._bootstrap>:874(__enter__)\n",
      "        9    0.000    0.000    0.000    0.000 <frozen importlib._bootstrap>:878(__exit__)\n",
      "        3    0.000    0.000    0.001    0.000 <frozen importlib._bootstrap>:901(_find_spec)\n",
      "      3/1    0.000    0.000    0.002    0.002 <frozen importlib._bootstrap>:967(_find_and_load_unlocked)\n",
      "        3    0.000    0.000    0.000    0.000 <frozen importlib._bootstrap_external>:1006(__init__)\n",
      "        3    0.000    0.000    0.000    0.000 <frozen importlib._bootstrap_external>:1031(get_filename)\n",
      "        3    0.000    0.000    0.001    0.000 <frozen importlib._bootstrap_external>:1036(get_data)\n",
      "        3    0.000    0.000    0.000    0.000 <frozen importlib._bootstrap_external>:1077(path_stats)\n",
      "       15    0.000    0.000    0.000    0.000 <frozen importlib._bootstrap_external>:114(<listcomp>)\n",
      "        6    0.000    0.000    0.000    0.000 <frozen importlib._bootstrap_external>:127(_path_split)\n",
      "       18    0.000    0.000    0.000    0.000 <frozen importlib._bootstrap_external>:129(<genexpr>)\n",
      "        3    0.000    0.000    0.000    0.000 <frozen importlib._bootstrap_external>:1337(_path_importer_cache)\n",
      "        9    0.000    0.000    0.000    0.000 <frozen importlib._bootstrap_external>:135(_path_stat)\n",
      "        3    0.000    0.000    0.000    0.000 <frozen importlib._bootstrap_external>:1374(_get_spec)\n",
      "        3    0.000    0.000    0.000    0.000 <frozen importlib._bootstrap_external>:1406(find_spec)\n",
      "        3    0.000    0.000    0.000    0.000 <frozen importlib._bootstrap_external>:145(_path_is_mode_type)\n",
      "        3    0.000    0.000    0.000    0.000 <frozen importlib._bootstrap_external>:1500(_get_spec)\n",
      "        3    0.000    0.000    0.000    0.000 <frozen importlib._bootstrap_external>:1505(find_spec)\n",
      "        3    0.000    0.000    0.000    0.000 <frozen importlib._bootstrap_external>:154(_path_isfile)\n",
      "        6    0.000    0.000    0.000    0.000 <frozen importlib._bootstrap_external>:361(cache_from_source)\n",
      "        3    0.000    0.000    0.000    0.000 <frozen importlib._bootstrap_external>:491(_get_cached)\n",
      "        3    0.000    0.000    0.000    0.000 <frozen importlib._bootstrap_external>:523(_check_name_wrapper)\n",
      "        3    0.000    0.000    0.000    0.000 <frozen importlib._bootstrap_external>:560(_classify_pyc)\n",
      "        3    0.000    0.000    0.000    0.000 <frozen importlib._bootstrap_external>:593(_validate_timestamp_pyc)\n",
      "        3    0.000    0.000    0.000    0.000 <frozen importlib._bootstrap_external>:64(_relax_case)\n",
      "        3    0.000    0.000    0.000    0.000 <frozen importlib._bootstrap_external>:645(_compile_bytecode)\n",
      "        3    0.000    0.000    0.000    0.000 <frozen importlib._bootstrap_external>:696(spec_from_file_location)\n",
      "        9    0.000    0.000    0.000    0.000 <frozen importlib._bootstrap_external>:79(_unpack_uint32)\n",
      "        3    0.000    0.000    0.000    0.000 <frozen importlib._bootstrap_external>:841(create_module)\n",
      "      3/1    0.000    0.000    0.002    0.002 <frozen importlib._bootstrap_external>:844(exec_module)\n",
      "       15    0.000    0.000    0.000    0.000 <frozen importlib._bootstrap_external>:91(_path_join)\n",
      "        3    0.000    0.000    0.002    0.001 <frozen importlib._bootstrap_external>:916(get_code)\n",
      "        1    0.000    0.000    0.000    0.000 <string>:1(<lambda>)\n",
      "        1    0.000    0.000    0.004    0.004 __init__.py:1060(memory_full_info)\n",
      "        1    0.000    0.000    0.000    0.000 __init__.py:1561(cpu_count)\n",
      "        1    0.000    0.000    0.000    0.000 __init__.py:325(__init__)\n",
      "        1    0.000    0.000    0.000    0.000 __init__.py:328(_init)\n",
      "        1    0.000    0.000    0.000    0.000 __init__.py:420(pid)\n",
      "        1    0.000    0.000    0.000    0.000 __init__.py:704(create_time)\n",
      "        1    0.000    0.000    0.000    0.000 __init__.py:942(cpu_percent)\n",
      "        1    0.000    0.000    0.000    0.000 __init__.py:982(timer)\n",
      "        1    0.000    0.000    0.000    0.000 _common.py:399(wrapper)\n",
      "        1    0.000    0.000    0.000    0.000 _pswindows.py:302(cpu_count_logical)\n",
      "      4/3    0.000    0.000    0.004    0.001 _pswindows.py:676(wrapper)\n",
      "        1    0.000    0.000    0.000    0.000 _pswindows.py:716(__init__)\n",
      "        1    0.000    0.000    0.000    0.000 _pswindows.py:807(_get_raw_meminfo)\n",
      "        1    0.000    0.000    0.000    0.000 _pswindows.py:829(memory_info)\n",
      "        1    0.000    0.000    0.004    0.004 _pswindows.py:839(memory_full_info)\n",
      "        1    0.000    0.000    0.000    0.000 _pswindows.py:928(create_time)\n",
      "        1    0.000    0.000    0.000    0.000 _pswindows.py:953(cpu_times)\n",
      "        1    0.000    0.000    0.000    0.000 _weakrefset.py:86(add)\n",
      "        1    0.000    0.000    0.006    0.006 context.py:222(_Popen)\n",
      "        1    0.000    0.000    0.000    0.000 context.py:233(get_context)\n",
      "        1    0.000    0.000    0.000    0.000 context.py:249(get_start_method)\n",
      "        1    0.000    0.000    0.006    0.006 context.py:324(_Popen)\n",
      "        2    0.000    0.000    0.000    0.000 context.py:351(get_spawning_popen)\n",
      "        2    0.000    0.000    0.000    0.000 context.py:354(set_spawning_popen)\n",
      "        1    0.000    0.000    0.000    0.000 copyreg.py:103(_slotnames)\n",
      "        1    0.000    0.000    0.002    0.002 popen_spawn_win32.py:1(<module>)\n",
      "        1    0.000    0.000    0.000    0.000 popen_spawn_win32.py:22(_path_eq)\n",
      "        1    0.000    0.000    0.000    0.000 popen_spawn_win32.py:38(Popen)\n",
      "        1    0.000    0.000    0.003    0.003 popen_spawn_win32.py:44(__init__)\n",
      "        5    0.000    0.000    0.000    0.000 popen_spawn_win32.py:57(<genexpr>)\n",
      "        1    0.000    0.000    0.006    0.006 process.py:110(start)\n",
      "        1    0.000    0.000    0.000    0.000 process.py:189(name)\n",
      "        1    0.000    0.000    0.000    0.000 process.py:213(authkey)\n",
      "        2    0.000    0.000    0.000    0.000 process.py:344(__reduce__)\n",
      "        2    0.000    0.000    0.000    0.000 process.py:37(current_process)\n",
      "        1    0.000    0.000    0.000    0.000 process.py:61(_cleanup)\n",
      "        1    0.000    0.000    0.000    0.000 process.py:80(__init__)\n",
      "        2    0.000    0.000    0.000    0.000 process.py:94(<genexpr>)\n",
      "        1    0.000    0.000    0.000    0.000 process.py:99(_check_closed)\n",
      "        2    0.000    0.000    0.000    0.000 reduction.py:38(__init__)\n",
      "        2    0.000    0.000    0.000    0.000 reduction.py:58(dump)\n",
      "        1    0.000    0.000    0.001    0.001 spawn.py:11(<module>)\n",
      "        1    0.000    0.000    0.000    0.000 spawn.py:132(_check_not_importing_main)\n",
      "        1    0.000    0.000    0.000    0.000 spawn.py:150(get_preparation_data)\n",
      "        1    0.000    0.000    0.000    0.000 spawn.py:45(get_executable)\n",
      "        1    0.000    0.000    0.000    0.000 spawn.py:78(get_command_line)\n",
      "        3    0.000    0.000    0.000    0.000 spawn.py:87(<genexpr>)\n",
      "        1    0.000    0.000    0.000    0.000 subprocess.py:272(_optim_args_from_interpreter_flags)\n",
      "        1    0.000    0.000    0.000    0.000 subprocess.py:282(_args_from_interpreter_flags)\n",
      "        1    0.000    0.000    0.000    0.000 threading.py:82(RLock)\n",
      "        1    0.000    0.000    0.000    0.000 util.py:10(<module>)\n",
      "        1    0.000    0.000    0.000    0.000 util.py:108(_platform_supports_abstract_sockets)\n",
      "        1    0.000    0.000    0.000    0.000 util.py:182(Finalize)\n",
      "        1    0.000    0.000    0.000    0.000 util.py:186(__init__)\n",
      "        1    0.000    0.000    0.000    0.000 util.py:368(ForkAwareThreadLock)\n",
      "        1    0.000    0.000    0.000    0.000 util.py:385(ForkAwareLocal)\n",
      "        1    0.000    0.000    0.000    0.000 weakref.py:105(__init__)\n",
      "        1    0.000    0.000    0.000    0.000 weakref.py:290(update)\n",
      "        3    0.000    0.000    0.000    0.000 {built-in method __new__ of type object at 0x00007FFB03933C60}\n",
      "        3    0.000    0.000    0.000    0.000 {built-in method _imp._fix_co_filename}\n",
      "       15    0.000    0.000    0.000    0.000 {built-in method _imp.acquire_lock}\n",
      "        3    0.000    0.000    0.000    0.000 {built-in method _imp.is_frozen}\n",
      "       15    0.000    0.000    0.000    0.000 {built-in method _imp.release_lock}\n",
      "        6    0.000    0.000    0.000    0.000 {built-in method _thread.allocate_lock}\n",
      "        6    0.000    0.000    0.000    0.000 {built-in method _thread.get_ident}\n",
      "        1    0.000    0.000    0.000    0.000 {built-in method _winapi.CloseHandle}\n",
      "        1    0.000    0.000    0.000    0.000 {built-in method _winapi.CreatePipe}\n",
      "        1    0.003    0.003    0.003    0.003 {built-in method _winapi.CreateProcess}\n",
      "        1    0.000    0.000    0.000    0.000 {built-in method atexit.register}\n",
      "        4    0.000    0.000    0.000    0.000 {built-in method builtins.__build_class__}\n",
      "      2/1    0.000    0.000    0.001    0.001 {built-in method builtins.__import__}\n",
      "      3/1    0.000    0.000    0.002    0.002 {built-in method builtins.exec}\n",
      "       33    0.000    0.000    0.000    0.000 {built-in method builtins.getattr}\n",
      "       19    0.000    0.000    0.000    0.000 {built-in method builtins.hasattr}\n",
      "       16    0.000    0.000    0.000    0.000 {built-in method builtins.isinstance}\n",
      "    13560    0.001    0.000    0.001    0.000 {built-in method builtins.len}\n",
      "        6    0.000    0.000    0.000    0.000 {built-in method builtins.max}\n",
      "        2    0.000    0.000    0.000    0.000 {built-in method builtins.next}\n",
      "        3    0.000    0.000    0.000    0.000 {built-in method builtins.setattr}\n",
      "        1    0.000    0.000    0.000    0.000 {built-in method builtins.sorted}\n",
      "        9    0.000    0.000    0.000    0.000 {built-in method from_bytes}\n",
      "        3    0.001    0.000    0.001    0.000 {built-in method io.open_code}\n",
      "        1    0.000    0.000    0.000    0.000 {built-in method io.open}\n",
      "        3    0.000    0.000    0.000    0.000 {built-in method marshal.loads}\n",
      "        1    0.000    0.000    0.000    0.000 {built-in method msvcrt.open_osfhandle}\n",
      "        9    0.000    0.000    0.000    0.000 {built-in method nt.fspath}\n",
      "        1    0.000    0.000    0.000    0.000 {built-in method nt.getcwd}\n",
      "        5    0.000    0.000    0.000    0.000 {built-in method nt.getpid}\n",
      "        9    0.000    0.000    0.000    0.000 {built-in method nt.stat}\n",
      "        1    0.000    0.000    0.000    0.000 {built-in method psutil_windows.cpu_count_logical}\n",
      "        1    0.000    0.000    0.000    0.000 {built-in method psutil_windows.proc_memory_info}\n",
      "        1    0.004    0.004    0.004    0.004 {built-in method psutil_windows.proc_memory_uss}\n",
      "        2    0.000    0.000    0.000    0.000 {built-in method psutil_windows.proc_times}\n",
      "        1    0.000    0.000    0.000    0.000 {built-in method time.monotonic}\n",
      "        1    0.000    0.000    0.000    0.000 {built-in method time.time}\n",
      "        4    0.000    0.000    0.000    0.000 {method '__exit__' of '_io._IOBase' objects}\n",
      "        6    0.000    0.000    0.000    0.000 {method '__exit__' of '_thread.lock' objects}\n",
      "        2    0.000    0.000    0.000    0.000 {method 'add' of 'set' objects}\n",
      "       21    0.000    0.000    0.000    0.000 {method 'append' of 'list' objects}\n",
      "        3    0.000    0.000    0.000    0.000 {method 'copy' of 'dict' objects}\n",
      "        1    0.000    0.000    0.000    0.000 {method 'copy' of 'list' objects}\n",
      "        2    0.000    0.000    0.000    0.000 {method 'dump' of '_pickle.Pickler' objects}\n",
      "        1    0.202    0.202    0.202    0.202 {method 'enable' of '_lsprof.Profiler' objects}\n",
      "       62    0.000    0.000    0.000    0.000 {method 'endswith' of 'str' objects}\n",
      "        2    0.000    0.000    0.000    0.000 {method 'format' of 'str' objects}\n",
      "        7    0.000    0.000    0.000    0.000 {method 'get' of 'dict' objects}\n",
      "        1    0.000    0.000    0.000    0.000 {method 'get' of 'mappingproxy' objects}\n",
      "        1    0.000    0.000    0.000    0.000 {method 'index' of 'list' objects}\n",
      "        5    0.000    0.000    0.000    0.000 {method 'items' of 'dict' objects}\n",
      "       24    0.000    0.000    0.000    0.000 {method 'join' of 'str' objects}\n",
      "        2    0.000    0.000    0.000    0.000 {method 'lower' of 'str' objects}\n",
      "        3    0.000    0.000    0.000    0.000 {method 'pop' of 'dict' objects}\n",
      "        3    0.000    0.000    0.000    0.000 {method 'read' of '_io.BufferedReader' objects}\n",
      "       12    0.000    0.000    0.000    0.000 {method 'rfind' of 'str' objects}\n",
      "       29    0.000    0.000    0.000    0.000 {method 'rpartition' of 'str' objects}\n",
      "       51    0.000    0.000    0.000    0.000 {method 'rstrip' of 'str' objects}\n",
      "       36    0.000    0.000    0.000    0.000 {method 'startswith' of 'str' objects}\n",
      "        3    0.000    0.000    0.000    0.000 {method 'update' of 'dict' objects}\n",
      "\n",
      "\n",
      "full mem information: pfullmem(rss=101662720, vms=107466752, num_page_faults=25645, peak_wset=101662720, wset=101662720, peak_paged_pool=716144, paged_pool=715864, peak_nonpaged_pool=148312, nonpaged_pool=131880, pagefile=107466752, peak_pagefile=107474944, private=107466752, uss=78290944)\n",
      "memory rss: 0.0946807861328125 GB\n",
      "memory vms: 0.10008621215820312 GB\n",
      "pfaults: 25645\n",
      "pageins: 101662720\n",
      "memory uss: 0.0946807861328125 GB\n",
      "cpu percent: 100.0\n",
      "cpu time: pcputimes(user=5.0, system=0.96875, children_user=0.0, children_system=0.0)\n",
      "         1638 function calls (139 primitive calls) in 0.336 seconds\n",
      "\n",
      "   Ordered by: standard name\n",
      "\n",
      "   ncalls  tottime  percall  cumtime  percall filename:lineno(function)\n",
      "   1499/1    0.193    0.000    0.193    0.193 4209738673.py:10(bubbleSort)\n",
      "        3    0.000    0.000    0.000    0.000 <frozen importlib._bootstrap>:398(parent)\n",
      "        1    0.000    0.000    0.000    0.000 <string>:1(<lambda>)\n",
      "        1    0.000    0.000    0.005    0.005 __init__.py:1060(memory_full_info)\n",
      "        1    0.000    0.000    0.000    0.000 __init__.py:1561(cpu_count)\n",
      "        1    0.000    0.000    0.000    0.000 __init__.py:325(__init__)\n",
      "        1    0.000    0.000    0.000    0.000 __init__.py:328(_init)\n",
      "        1    0.000    0.000    0.000    0.000 __init__.py:420(pid)\n",
      "        1    0.000    0.000    0.000    0.000 __init__.py:704(create_time)\n",
      "        1    0.000    0.000    0.000    0.000 __init__.py:942(cpu_percent)\n",
      "        1    0.000    0.000    0.000    0.000 __init__.py:982(timer)\n",
      "        1    0.000    0.000    0.000    0.000 _common.py:399(wrapper)\n",
      "        1    0.000    0.000    0.000    0.000 _pswindows.py:302(cpu_count_logical)\n",
      "      4/3    0.000    0.000    0.005    0.002 _pswindows.py:676(wrapper)\n",
      "        1    0.000    0.000    0.000    0.000 _pswindows.py:716(__init__)\n",
      "        1    0.000    0.000    0.000    0.000 _pswindows.py:807(_get_raw_meminfo)\n",
      "        1    0.000    0.000    0.000    0.000 _pswindows.py:829(memory_info)\n",
      "        1    0.000    0.000    0.005    0.005 _pswindows.py:839(memory_full_info)\n",
      "        1    0.000    0.000    0.000    0.000 _pswindows.py:928(create_time)\n",
      "        1    0.000    0.000    0.000    0.000 _pswindows.py:953(cpu_times)\n",
      "        1    0.000    0.000    0.000    0.000 _weakrefset.py:86(add)\n",
      "        1    0.000    0.000    0.004    0.004 context.py:222(_Popen)\n",
      "        1    0.000    0.000    0.000    0.000 context.py:233(get_context)\n",
      "        1    0.000    0.000    0.000    0.000 context.py:249(get_start_method)\n",
      "        1    0.000    0.000    0.004    0.004 context.py:324(_Popen)\n",
      "        2    0.000    0.000    0.000    0.000 context.py:351(get_spawning_popen)\n",
      "        2    0.000    0.000    0.000    0.000 context.py:354(set_spawning_popen)\n",
      "        2    0.000    0.000    0.000    0.000 popen_spawn_win32.py:101(wait)\n",
      "        1    0.000    0.000    0.000    0.000 popen_spawn_win32.py:117(poll)\n",
      "        1    0.000    0.000    0.004    0.004 popen_spawn_win32.py:44(__init__)\n",
      "        5    0.000    0.000    0.000    0.000 popen_spawn_win32.py:57(<genexpr>)\n",
      "        1    0.000    0.000    0.004    0.004 process.py:110(start)\n",
      "        1    0.000    0.000    0.000    0.000 process.py:142(join)\n",
      "        1    0.000    0.000    0.000    0.000 process.py:189(name)\n",
      "        1    0.000    0.000    0.000    0.000 process.py:213(authkey)\n",
      "        2    0.000    0.000    0.000    0.000 process.py:344(__reduce__)\n",
      "        2    0.000    0.000    0.000    0.000 process.py:37(current_process)\n",
      "        1    0.000    0.000    0.000    0.000 process.py:61(_cleanup)\n",
      "        1    0.000    0.000    0.000    0.000 process.py:80(__init__)\n",
      "        2    0.000    0.000    0.000    0.000 process.py:94(<genexpr>)\n",
      "        2    0.000    0.000    0.000    0.000 process.py:99(_check_closed)\n",
      "        2    0.000    0.000    0.000    0.000 reduction.py:38(__init__)\n",
      "        2    0.000    0.000    0.000    0.000 reduction.py:58(dump)\n",
      "        1    0.000    0.000    0.000    0.000 spawn.py:132(_check_not_importing_main)\n",
      "        1    0.000    0.000    0.000    0.000 spawn.py:150(get_preparation_data)\n",
      "        1    0.000    0.000    0.000    0.000 spawn.py:45(get_executable)\n",
      "        1    0.000    0.000    0.000    0.000 spawn.py:78(get_command_line)\n",
      "        3    0.000    0.000    0.000    0.000 spawn.py:87(<genexpr>)\n",
      "        1    0.000    0.000    0.000    0.000 subprocess.py:272(_optim_args_from_interpreter_flags)\n",
      "        1    0.000    0.000    0.000    0.000 subprocess.py:282(_args_from_interpreter_flags)\n",
      "        1    0.000    0.000    0.000    0.000 threading.py:82(RLock)\n",
      "        1    0.000    0.000    0.000    0.000 util.py:186(__init__)\n",
      "        3    0.000    0.000    0.000    0.000 {built-in method __new__ of type object at 0x00007FFB03933C60}\n",
      "        1    0.000    0.000    0.000    0.000 {built-in method _winapi.CloseHandle}\n",
      "        1    0.000    0.000    0.000    0.000 {built-in method _winapi.CreatePipe}\n",
      "        1    0.003    0.003    0.003    0.003 {built-in method _winapi.CreateProcess}\n",
      "        1    0.000    0.000    0.000    0.000 {built-in method _winapi.GetExitCodeProcess}\n",
      "        1    0.000    0.000    0.000    0.000 {built-in method _winapi.WaitForSingleObject}\n",
      "       13    0.000    0.000    0.000    0.000 {built-in method builtins.getattr}\n",
      "        1    0.000    0.000    0.000    0.000 {built-in method builtins.len}\n",
      "        1    0.000    0.000    0.000    0.000 {built-in method builtins.max}\n",
      "        2    0.000    0.000    0.000    0.000 {built-in method builtins.next}\n",
      "        1    0.000    0.000    0.000    0.000 {built-in method builtins.sorted}\n",
      "        1    0.000    0.000    0.000    0.000 {built-in method io.open}\n",
      "        1    0.000    0.000    0.000    0.000 {built-in method msvcrt.open_osfhandle}\n",
      "        1    0.000    0.000    0.000    0.000 {built-in method nt.getcwd}\n",
      "        6    0.000    0.000    0.000    0.000 {built-in method nt.getpid}\n",
      "        1    0.000    0.000    0.000    0.000 {built-in method psutil_windows.cpu_count_logical}\n",
      "        1    0.000    0.000    0.000    0.000 {built-in method psutil_windows.proc_memory_info}\n",
      "        1    0.004    0.004    0.004    0.004 {built-in method psutil_windows.proc_memory_uss}\n",
      "        2    0.000    0.000    0.000    0.000 {built-in method psutil_windows.proc_times}\n",
      "        1    0.000    0.000    0.000    0.000 {built-in method time.monotonic}\n",
      "        1    0.000    0.000    0.000    0.000 {built-in method time.time}\n",
      "        1    0.000    0.000    0.000    0.000 {method '__exit__' of '_io._IOBase' objects}\n",
      "        2    0.000    0.000    0.000    0.000 {method 'add' of 'set' objects}\n",
      "        3    0.000    0.000    0.000    0.000 {method 'copy' of 'dict' objects}\n",
      "        1    0.000    0.000    0.000    0.000 {method 'copy' of 'list' objects}\n",
      "        1    0.134    0.134    0.134    0.134 {method 'disable' of '_lsprof.Profiler' objects}\n",
      "        2    0.000    0.000    0.000    0.000 {method 'discard' of 'set' objects}\n",
      "        2    0.000    0.000    0.000    0.000 {method 'dump' of '_pickle.Pickler' objects}\n",
      "        1    0.000    0.000    0.000    0.000 {method 'get' of 'dict' objects}\n",
      "        1    0.000    0.000    0.000    0.000 {method 'index' of 'list' objects}\n",
      "        3    0.000    0.000    0.000    0.000 {method 'items' of 'dict' objects}\n",
      "        3    0.000    0.000    0.000    0.000 {method 'join' of 'str' objects}\n",
      "        3    0.000    0.000    0.000    0.000 {method 'rpartition' of 'str' objects}\n",
      "        3    0.000    0.000    0.000    0.000 {method 'update' of 'dict' objects}\n",
      "\n",
      "\n",
      "full mem information: pfullmem(rss=101937152, vms=107732992, num_page_faults=25712, peak_wset=101937152, wset=101937152, peak_paged_pool=716856, paged_pool=716856, peak_nonpaged_pool=148312, nonpaged_pool=133272, pagefile=107732992, peak_pagefile=107732992, private=107732992, uss=78290944)\n",
      "memory rss: 0.09493637084960938 GB\n",
      "memory vms: 0.10033416748046875 GB\n",
      "pfaults: 25712\n",
      "pageins: 101937152\n",
      "memory uss: 0.09493637084960938 GB\n",
      "cpu time: pcputimes(user=5.078125, system=0.984375, children_user=0.0, children_system=0.0)\n",
      "     Program  Process id     RSS in GB     VMS in GB  Page Faults   Page ins  \\\n",
      "0  shellSort       10504  1.524941e+09  1.612001e+09        25645  101662720   \n",
      "\n",
      "   Memory USS (GB)  CPU Percent                        CPU Time  Running time  \n",
      "0         0.094681        120.2  (5.078125, 0.984375, 0.0, 0.0)         1.944  \n",
      "      Program  Process id     RSS in GB     VMS in GB  Page Faults   Page ins  \\\n",
      "0  bubbleSort       10504  1.529057e+09  1.615995e+09        25712  101937152   \n",
      "\n",
      "   Memory USS (GB)  CPU Percent                       CPU Time  Running time  \n",
      "0         0.094936        104.2  (5.09375, 0.984375, 0.0, 0.0)         0.328  \n",
      "done\n"
     ]
    }
   ],
   "source": [
    "import multiprocessing #This is a library for simultaneous running of algorithms\n",
    "import os\n",
    "if __name__ == \"__main__\":\n",
    "   \n",
    "    pr1=cProfile.Profile()\n",
    "    pr1.enable()\n",
    "    p0=psutil.Process()\n",
    "    p0.cpu_percent()\n",
    "    mem0 = p0.memory_full_info()\n",
    "    start1=time.time()\n",
    "    mp1 = multiprocessing.Process(target=shellSort(mylist))\n",
    "    mp1.start()\n",
    "    pr2=cProfile.Profile()\n",
    "    pr2.enable()\n",
    "    p3=psutil.Process()\n",
    "    p3.cpu_percent()\n",
    "    mem1 = p3.memory_full_info()\n",
    "    start2=time.time()\n",
    "    mp2 = multiprocessing.Process(target=bubbleSort(mylist,len(mylist)))\n",
    "    mp2.start()\n",
    "    mp1.join()\n",
    "    pr1.disable()\n",
    "    end1=time.time()\n",
    "    pr1.print_stats()\n",
    "    print(\"full mem information:\", mem0)\n",
    "    print('memory rss:', mem0[0]/2.**30 , \"GB\")\n",
    "    print('memory vms:', mem0[1]/2.**30 , \"GB\")\n",
    "    print('pfaults:', mem0[2])\n",
    "    print('pageins:', mem0[3])\n",
    "    print('memory uss:', mem0[4]/2.**30 , \"GB\")\n",
    "    print(\"cpu percent:\", p0.cpu_percent())\n",
    "    print(\"cpu time:\", p0.cpu_times())\n",
    "    mp2.join()\n",
    "    pr2.disable()\n",
    "    end2=time.time()\n",
    "    pr2.print_stats()\n",
    "    print(\"full mem information:\", mem1)\n",
    "    print('memory rss:', mem1[0]/2.**30 , \"GB\")\n",
    "    print('memory vms:', mem1[1]/2.**30 , \"GB\")\n",
    "    print('pfaults:', mem1[2])\n",
    "    print('pageins:', mem1[3])\n",
    "    print('memory uss:', mem1[4]/2.**30 , \"GB\")\n",
    "    print(\"cpu time:\", p3.cpu_times())\n",
    "    df3= pd.DataFrame({'Program': ['shellSort'],\n",
    "        'Process id':[p3.pid],'RSS in GB':[mem0[0]/2.*30], 'VMS in GB':[mem0[1]/2.*30],'Page Faults':[mem0[2]],'Page ins': [mem0[3]],\n",
    "                     'Memory USS (GB)':[mem0[4]/2.**30 ], 'CPU Percent':[p0.cpu_percent()],'CPU Time': [p0.cpu_times()], 'Running time': [(round((end1-start1),3))],\n",
    "                      })\n",
    "    print(df3)\n",
    "    df4= pd.DataFrame({'Program': ['bubbleSort'],\n",
    "        'Process id':[p0.pid],'RSS in GB':[mem1[0]/2.*30], 'VMS in GB':[mem1[1]/2.*30],'Page Faults':[mem1[2]],'Page ins': [mem1[3]],\n",
    "                     'Memory USS (GB)':[mem1[4]/2.**30 ], 'CPU Percent':[p3.cpu_percent()],'CPU Time': [p3.cpu_times()], 'Running time': [(round((end2-start2),3))],\n",
    "                      })\n",
    "    print(df4)\n",
    "    \n",
    "    \n",
    "print(\"done\")"
   ]
  },
  {
   "cell_type": "markdown",
   "id": "647ecd46",
   "metadata": {},
   "source": [
    "# Comparison of both the algorithms when run alone"
   ]
  },
  {
   "cell_type": "code",
   "execution_count": 6,
   "id": "f74ae7f9",
   "metadata": {
    "scrolled": true
   },
   "outputs": [
    {
     "data": {
      "text/html": [
       "<div>\n",
       "<style scoped>\n",
       "    .dataframe tbody tr th:only-of-type {\n",
       "        vertical-align: middle;\n",
       "    }\n",
       "\n",
       "    .dataframe tbody tr th {\n",
       "        vertical-align: top;\n",
       "    }\n",
       "\n",
       "    .dataframe thead th {\n",
       "        text-align: right;\n",
       "    }\n",
       "</style>\n",
       "<table border=\"1\" class=\"dataframe\">\n",
       "  <thead>\n",
       "    <tr style=\"text-align: right;\">\n",
       "      <th></th>\n",
       "      <th>Program</th>\n",
       "      <th>Process id</th>\n",
       "      <th>RSS in GB</th>\n",
       "      <th>VMS in GB</th>\n",
       "      <th>Page Faults</th>\n",
       "      <th>Page ins</th>\n",
       "      <th>Memory USS (GB)</th>\n",
       "      <th>CPU Percent</th>\n",
       "      <th>CPU Time</th>\n",
       "      <th>Running time</th>\n",
       "    </tr>\n",
       "  </thead>\n",
       "  <tbody>\n",
       "    <tr>\n",
       "      <th>0</th>\n",
       "      <td>shellSort</td>\n",
       "      <td>10504</td>\n",
       "      <td>1.479107e+09</td>\n",
       "      <td>1.571082e+09</td>\n",
       "      <td>24897</td>\n",
       "      <td>98607104</td>\n",
       "      <td>0.091835</td>\n",
       "      <td>100.8</td>\n",
       "      <td>(2.921875, 0.875, 0.0, 0.0)</td>\n",
       "      <td>1.898</td>\n",
       "    </tr>\n",
       "    <tr>\n",
       "      <th>0</th>\n",
       "      <td>bubbleSort</td>\n",
       "      <td>10504</td>\n",
       "      <td>1.494897e+09</td>\n",
       "      <td>1.586135e+09</td>\n",
       "      <td>25156</td>\n",
       "      <td>99659776</td>\n",
       "      <td>0.092815</td>\n",
       "      <td>87.5</td>\n",
       "      <td>(3.015625, 0.921875, 0.0, 0.0)</td>\n",
       "      <td>0.110</td>\n",
       "    </tr>\n",
       "  </tbody>\n",
       "</table>\n",
       "</div>"
      ],
      "text/plain": [
       "      Program  Process id     RSS in GB     VMS in GB  Page Faults  Page ins  \\\n",
       "0   shellSort       10504  1.479107e+09  1.571082e+09        24897  98607104   \n",
       "0  bubbleSort       10504  1.494897e+09  1.586135e+09        25156  99659776   \n",
       "\n",
       "   Memory USS (GB)  CPU Percent                        CPU Time  Running time  \n",
       "0         0.091835        100.8     (2.921875, 0.875, 0.0, 0.0)         1.898  \n",
       "0         0.092815         87.5  (3.015625, 0.921875, 0.0, 0.0)         0.110  "
      ]
     },
     "execution_count": 6,
     "metadata": {},
     "output_type": "execute_result"
    }
   ],
   "source": [
    "import matplotlib.pyplot as plt # This library is used for data visualization\n",
    "import numpy as np \n",
    "from psutil import cpu_percent\n",
    "data1=pd.concat([df1,df2])\n",
    "data1"
   ]
  },
  {
   "cell_type": "markdown",
   "id": "052843da",
   "metadata": {},
   "source": [
    "# Bar Graph Visualization for the running time of algorithms when run alone"
   ]
  },
  {
   "cell_type": "code",
   "execution_count": 20,
   "id": "ae76b222",
   "metadata": {},
   "outputs": [
    {
     "data": {
      "image/png": "[encoded data removed]",
      "text/plain": [
       "<Figure size 432x288 with 1 Axes>"
      ]
     },
     "metadata": {
      "needs_background": "light"
     },
     "output_type": "display_data"
    }
   ],
   "source": [
    "w = 0.4\n",
    "x=['ShellSort','BubbleSort']\n",
    "br1 = np.arange(len(x))\n",
    "br2 = [x+w for x in br1]\n",
    "plt.bar(br1,data1[\"Running time\"],w,label='runtime alone',color=\"purple\")\n",
    "plt.xticks(br1,x)\n",
    "plt.xlabel(\"Algorithms taken\")\n",
    "plt.ylabel(\"Running time of each algorithm(in s)\")\n",
    "plt.title(\"comparisions of Running time  of algorithms run alone\")\n",
    "plt.legend()\n",
    "plt.show()"
   ]
  },
  {
   "cell_type": "markdown",
   "id": "525d80d5",
   "metadata": {},
   "source": [
    "# Bar Graph Visualization of the CPU Utilization of two algorithms when run alone "
   ]
  },
  {
   "cell_type": "code",
   "execution_count": 23,
   "id": "de9d93b8",
   "metadata": {},
   "outputs": [
    {
     "data": {
      "text/plain": [
       "Text(0.5, 1.0, 'comparision of CPU Percent  of algorithms when run alone')"
      ]
     },
     "execution_count": 23,
     "metadata": {},
     "output_type": "execute_result"
    },
    {
     "data": {
      "image/png": "[encoded data removed]",
      "text/plain": [
       "<Figure size 432x288 with 1 Axes>"
      ]
     },
     "metadata": {
      "needs_background": "light"
     },
     "output_type": "display_data"
    }
   ],
   "source": [
    "w = 0.4\n",
    "x=['ShellSort','BubbleSort']\n",
    "br1 = np.arange(len(x))\n",
    "br2 = [x+w for x in br1]\n",
    "plt.bar(br1,data1['CPU Percent'],w,label='CPU alone', color=\"purple\")\n",
    "plt.xticks(br1,x)\n",
    "plt.legend()\n",
    "plt.xlabel(\"Algorithms taken\")\n",
    "plt.ylabel(\"CPU Utilization of each algorithm in percentage\")\n",
    "plt.title(\"comparision of CPU Percent  of algorithms when run alone\")"
   ]
  },
  {
   "cell_type": "markdown",
   "id": "94221905",
   "metadata": {},
   "source": [
    "# Comparison of both the algorithms when run simultaneously"
   ]
  },
  {
   "cell_type": "code",
   "execution_count": 7,
   "id": "a3fff0ef",
   "metadata": {},
   "outputs": [
    {
     "data": {
      "text/html": [
       "<div>\n",
       "<style scoped>\n",
       "    .dataframe tbody tr th:only-of-type {\n",
       "        vertical-align: middle;\n",
       "    }\n",
       "\n",
       "    .dataframe tbody tr th {\n",
       "        vertical-align: top;\n",
       "    }\n",
       "\n",
       "    .dataframe thead th {\n",
       "        text-align: right;\n",
       "    }\n",
       "</style>\n",
       "<table border=\"1\" class=\"dataframe\">\n",
       "  <thead>\n",
       "    <tr style=\"text-align: right;\">\n",
       "      <th></th>\n",
       "      <th>Program</th>\n",
       "      <th>Process id</th>\n",
       "      <th>RSS in GB</th>\n",
       "      <th>VMS in GB</th>\n",
       "      <th>Page Faults</th>\n",
       "      <th>Page ins</th>\n",
       "      <th>Memory USS (GB)</th>\n",
       "      <th>CPU Percent</th>\n",
       "      <th>CPU Time</th>\n",
       "      <th>Running time</th>\n",
       "    </tr>\n",
       "  </thead>\n",
       "  <tbody>\n",
       "    <tr>\n",
       "      <th>0</th>\n",
       "      <td>shellSort</td>\n",
       "      <td>10504</td>\n",
       "      <td>1.524941e+09</td>\n",
       "      <td>1.612001e+09</td>\n",
       "      <td>25645</td>\n",
       "      <td>101662720</td>\n",
       "      <td>0.094681</td>\n",
       "      <td>120.2</td>\n",
       "      <td>(5.078125, 0.984375, 0.0, 0.0)</td>\n",
       "      <td>1.944</td>\n",
       "    </tr>\n",
       "    <tr>\n",
       "      <th>0</th>\n",
       "      <td>bubbleSort</td>\n",
       "      <td>10504</td>\n",
       "      <td>1.529057e+09</td>\n",
       "      <td>1.615995e+09</td>\n",
       "      <td>25712</td>\n",
       "      <td>101937152</td>\n",
       "      <td>0.094936</td>\n",
       "      <td>104.2</td>\n",
       "      <td>(5.09375, 0.984375, 0.0, 0.0)</td>\n",
       "      <td>0.328</td>\n",
       "    </tr>\n",
       "  </tbody>\n",
       "</table>\n",
       "</div>"
      ],
      "text/plain": [
       "      Program  Process id     RSS in GB     VMS in GB  Page Faults   Page ins  \\\n",
       "0   shellSort       10504  1.524941e+09  1.612001e+09        25645  101662720   \n",
       "0  bubbleSort       10504  1.529057e+09  1.615995e+09        25712  101937152   \n",
       "\n",
       "   Memory USS (GB)  CPU Percent                        CPU Time  Running time  \n",
       "0         0.094681        120.2  (5.078125, 0.984375, 0.0, 0.0)         1.944  \n",
       "0         0.094936        104.2   (5.09375, 0.984375, 0.0, 0.0)         0.328  "
      ]
     },
     "execution_count": 7,
     "metadata": {},
     "output_type": "execute_result"
    }
   ],
   "source": [
    "data2=pd.concat([df3,df4])\n",
    "data2"
   ]
  },
  {
   "cell_type": "markdown",
   "id": "ec7fa7c5",
   "metadata": {},
   "source": [
    "# Bar Graph Visualization for the CPU Utilization of the two algorithms when run alone"
   ]
  },
  {
   "cell_type": "code",
   "execution_count": 22,
   "id": "05cb8639",
   "metadata": {},
   "outputs": [
    {
     "data": {
      "text/plain": [
       "Text(0.5, 1.0, 'comparision of CPU Percent  of algorithms when run alone')"
      ]
     },
     "execution_count": 22,
     "metadata": {},
     "output_type": "execute_result"
    },
    {
     "data": {
      "image/png": "[encoded data removed]",
      "text/plain": [
       "<Figure size 432x288 with 1 Axes>"
      ]
     },
     "metadata": {
      "needs_background": "light"
     },
     "output_type": "display_data"
    }
   ],
   "source": [
    "w = 0.4\n",
    "x=['ShellSort','BubbleSort']\n",
    "br1 = np.arange(len(x))\n",
    "br2 = [x+w for x in br1]\n",
    "plt.bar(br1,data1['CPU Percent'],w,label='CPU alone', color=\"purple\")\n",
    "plt.xticks(br1,x)\n",
    "plt.legend()\n",
    "plt.xlabel(\"Algorithms taken\")\n",
    "plt.ylabel(\"CPU Utilization of each algorithm in percentage\")\n",
    "plt.title(\"comparision of CPU Percent  of algorithms when run alone\")"
   ]
  },
  {
   "cell_type": "markdown",
   "id": "a80a4e71",
   "metadata": {},
   "source": [
    "# Bar Graph Visualization of the two algorithms"
   ]
  },
  {
   "cell_type": "raw",
   "id": "9c1cb95e",
   "metadata": {},
   "source": [
    "Comparing Run Time"
   ]
  },
  {
   "cell_type": "code",
   "execution_count": 13,
   "id": "fb1d53aa",
   "metadata": {},
   "outputs": [
    {
     "data": {
      "image/png": "[encoded data removed]",
      "text/plain": [
       "<Figure size 432x288 with 1 Axes>"
      ]
     },
     "metadata": {
      "needs_background": "light"
     },
     "output_type": "display_data"
    }
   ],
   "source": [
    "w = 0.4\n",
    "x=['ShellSort','BubbleSort']\n",
    "br1 = np.arange(len(x))\n",
    "br2 = [x+w for x in br1]\n",
    "plt.bar(br1,data1[\"Running time\"],w,label='runtime alone')\n",
    "plt.bar(br2,data2[\"Running time\"],w,label='rutime simultaneously')\n",
    "plt.xticks(br1,x)\n",
    "plt.xlabel(\"Algorithms taken\")\n",
    "plt.ylabel(\"Running time of each algorithm(in s)\")\n",
    "plt.title(\"comparisions of Running time  of algorithms run alone and simultaneously\")\n",
    "\n",
    "plt.legend()\n",
    "plt.show()"
   ]
  },
  {
   "cell_type": "markdown",
   "id": "a6fdd12a",
   "metadata": {},
   "source": [
    "# Comapring CPU Utilization in Percentage"
   ]
  },
  {
   "cell_type": "code",
   "execution_count": 14,
   "id": "ffac2715",
   "metadata": {},
   "outputs": [
    {
     "data": {
      "text/plain": [
       "Text(0.5, 1.0, 'comparisions of CPU Percent  of algorithms run alone and simultaneously')"
      ]
     },
     "execution_count": 14,
     "metadata": {},
     "output_type": "execute_result"
    },
    {
     "data": {
      "image/png": "[encoded data removed]",
      "text/plain": [
       "<Figure size 432x288 with 1 Axes>"
      ]
     },
     "metadata": {
      "needs_background": "light"
     },
     "output_type": "display_data"
    }
   ],
   "source": [
    "w = 0.4\n",
    "x=['ShellSort','BubbleSort']\n",
    "br1 = np.arange(len(x))\n",
    "br2 = [x+w for x in br1]\n",
    "plt.bar(br1,data1['CPU Percent'],w,label='CPU alone')\n",
    "plt.bar(br2,data2['CPU Percent'],w,label='CPU simultaneously')\n",
    "plt.xticks(br1,x)\n",
    "plt.legend()\n",
    "plt.xlabel(\"Algorithms taken\")\n",
    "plt.ylabel(\"CPU Utilization of each algorithm in percentage\")\n",
    "plt.title(\"comparision of CPU Percent  of algorithms when run alone and simultaneously\")"
   ]
  },
  {
   "cell_type": "markdown",
   "id": "4e9aab11",
   "metadata": {},
   "source": [
    "# SnakeViz"
   ]
  },
  {
   "cell_type": "code",
   "execution_count": 10,
   "id": "2b5e086a",
   "metadata": {},
   "outputs": [
    {
     "name": "stdout",
     "output_type": "stream",
     "text": [
      " \n",
      "*** Profile stats marshalled to file 'C:\\\\Users\\\\KAVYA\\\\AppData\\\\Local\\\\Temp\\\\tmp1wvk00s4'. \n",
      "Embedding SnakeViz in this document...\n"
     ]
    },
    {
     "data": {
      "text/html": [
       "\n",
       "<iframe id='snakeviz-39acb00a-9d7a-11ec-8f9c-b068e639914c' frameborder=0 seamless width='100%' height='1000'></iframe>\n",
       "<script>document.getElementById(\"snakeviz-39acb00a-9d7a-11ec-8f9c-b068e639914c\").setAttribute(\"src\", \"http://\" + document.location.hostname + \":8080/snakeviz/C%3A%5CUsers%5CKAVYA%5CAppData%5CLocal%5CTemp%5Ctmp1wvk00s4\")</script>\n"
      ],
      "text/plain": [
       "<IPython.core.display.HTML object>"
      ]
     },
     "metadata": {},
     "output_type": "display_data"
    }
   ],
   "source": [
    "%reload_ext snakeviz\n",
    "%snakeviz shellSort(mylist)"
   ]
  },
  {
   "cell_type": "code",
   "execution_count": 11,
   "id": "c1f33332",
   "metadata": {},
   "outputs": [
    {
     "name": "stdout",
     "output_type": "stream",
     "text": [
      " \n",
      "*** Profile stats marshalled to file 'C:\\\\Users\\\\KAVYA\\\\AppData\\\\Local\\\\Temp\\\\tmp69yabpn2'. \n",
      "Embedding SnakeViz in this document...\n"
     ]
    },
    {
     "data": {
      "text/html": [
       "\n",
       "<iframe id='snakeviz-3c03847d-9d7a-11ec-b34e-b068e639914c' frameborder=0 seamless width='100%' height='1000'></iframe>\n",
       "<script>document.getElementById(\"snakeviz-3c03847d-9d7a-11ec-b34e-b068e639914c\").setAttribute(\"src\", \"http://\" + document.location.hostname + \":8080/snakeviz/C%3A%5CUsers%5CKAVYA%5CAppData%5CLocal%5CTemp%5Ctmp69yabpn2\")</script>\n"
      ],
      "text/plain": [
       "<IPython.core.display.HTML object>"
      ]
     },
     "metadata": {},
     "output_type": "display_data"
    }
   ],
   "source": [
    "%reload_ext snakeviz\n",
    "%snakeviz bubbleSort(mylist,len(mylist))"
   ]
  }
 ],
 "metadata": {
  "kernelspec": {
   "display_name": "Python 3 (ipykernel)",
   "language": "python",
   "name": "python3"
  },
  "language_info": {
   "codemirror_mode": {
    "name": "ipython",
    "version": 3
   },
   "file_extension": ".py",
   "mimetype": "text/x-python",
   "name": "python",
   "nbconvert_exporter": "python",
   "pygments_lexer": "ipython3",
   "version": "3.9.7"
  }
 },
 "nbformat": 4,
 "nbformat_minor": 5
}
